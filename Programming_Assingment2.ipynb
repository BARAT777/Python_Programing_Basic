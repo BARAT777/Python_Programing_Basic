{
 "cells": [
  {
   "cell_type": "markdown",
   "id": "0d0947a4",
   "metadata": {},
   "source": [
    "iNeuron Assignments- Programming Assignment -2\n",
    "\n",
    "1. Write a Python program to convert kilometers to miles?\n",
    "2. Write a Python program to convert Celsius to Fahrenheit?\n",
    "3. Write a Python program to display calendar?\n",
    "4. Write a Python program to solve quadratic equation?\n",
    "5. Write a Python program to swap two variables without temp variable?\n"
   ]
  },
  {
   "cell_type": "code",
   "execution_count": 7,
   "id": "8843dcfa",
   "metadata": {},
   "outputs": [
    {
     "name": "stdout",
     "output_type": "stream",
     "text": [
      "Enter the km value to find its miles conversion:345\n",
      "The Miles for the given Kilometers 345.0  is: 214.37306055  miles\n"
     ]
    }
   ],
   "source": [
    "#####    Write a Python program to convert kilometers to miles?\n",
    "\n",
    "#  Km or kilometers and miles are the units of length. Both km and miles are used to measure the distance between two distant points. Km to miles formula of a given length can be expressed as,         \n",
    "\n",
    "# 1 km = 0.62137119 miles\n",
    "\n",
    "#  For n number of km = (n × 0.62137119) miles\n",
    "\n",
    "n=float(input(\"Enter the km value to find its miles conversion:\"))\n",
    "print(\"The Miles for the given Kilometers\",n,\" is:\",n*0.62137119,\" miles\")"
   ]
  },
  {
   "cell_type": "code",
   "execution_count": 6,
   "id": "8a0ac804",
   "metadata": {},
   "outputs": [
    {
     "name": "stdout",
     "output_type": "stream",
     "text": [
      "Please enter the Celsius value to find Fahrenheit (°F):36.8\n",
      "The Fahrenheit (°F) for the given Celsius 36.8  is: 98.24  °F\n"
     ]
    }
   ],
   "source": [
    "#         Write a Python program to convert Celsius to Fahrenheit?\n",
    "\n",
    "#  Formula:   Fahrenheit (°F) = (Celsius x 1.8) + 32\n",
    "\n",
    "c=float(input(\"Please enter the Celsius value to find Fahrenheit (°F):\"))\n",
    "print(\"The Fahrenheit (°F) for the given Celsius\",c,\" is:\",(c*1.8)+32,\" °F\")\n"
   ]
  },
  {
   "cell_type": "code",
   "execution_count": 12,
   "id": "4735abc7",
   "metadata": {},
   "outputs": [
    {
     "name": "stdout",
     "output_type": "stream",
     "text": [
      "The Calendar for this year 2021  is:                                   2021\n",
      "\n",
      "      January                   February                   March\n",
      "Mo Tu We Th Fr Sa Su      Mo Tu We Th Fr Sa Su      Mo Tu We Th Fr Sa Su\n",
      "             1  2  3       1  2  3  4  5  6  7       1  2  3  4  5  6  7\n",
      " 4  5  6  7  8  9 10       8  9 10 11 12 13 14       8  9 10 11 12 13 14\n",
      "11 12 13 14 15 16 17      15 16 17 18 19 20 21      15 16 17 18 19 20 21\n",
      "18 19 20 21 22 23 24      22 23 24 25 26 27 28      22 23 24 25 26 27 28\n",
      "25 26 27 28 29 30 31                                29 30 31\n",
      "\n",
      "       April                      May                       June\n",
      "Mo Tu We Th Fr Sa Su      Mo Tu We Th Fr Sa Su      Mo Tu We Th Fr Sa Su\n",
      "          1  2  3  4                      1  2          1  2  3  4  5  6\n",
      " 5  6  7  8  9 10 11       3  4  5  6  7  8  9       7  8  9 10 11 12 13\n",
      "12 13 14 15 16 17 18      10 11 12 13 14 15 16      14 15 16 17 18 19 20\n",
      "19 20 21 22 23 24 25      17 18 19 20 21 22 23      21 22 23 24 25 26 27\n",
      "26 27 28 29 30            24 25 26 27 28 29 30      28 29 30\n",
      "                          31\n",
      "\n",
      "        July                     August                  September\n",
      "Mo Tu We Th Fr Sa Su      Mo Tu We Th Fr Sa Su      Mo Tu We Th Fr Sa Su\n",
      "          1  2  3  4                         1             1  2  3  4  5\n",
      " 5  6  7  8  9 10 11       2  3  4  5  6  7  8       6  7  8  9 10 11 12\n",
      "12 13 14 15 16 17 18       9 10 11 12 13 14 15      13 14 15 16 17 18 19\n",
      "19 20 21 22 23 24 25      16 17 18 19 20 21 22      20 21 22 23 24 25 26\n",
      "26 27 28 29 30 31         23 24 25 26 27 28 29      27 28 29 30\n",
      "                          30 31\n",
      "\n",
      "      October                   November                  December\n",
      "Mo Tu We Th Fr Sa Su      Mo Tu We Th Fr Sa Su      Mo Tu We Th Fr Sa Su\n",
      "             1  2  3       1  2  3  4  5  6  7             1  2  3  4  5\n",
      " 4  5  6  7  8  9 10       8  9 10 11 12 13 14       6  7  8  9 10 11 12\n",
      "11 12 13 14 15 16 17      15 16 17 18 19 20 21      13 14 15 16 17 18 19\n",
      "18 19 20 21 22 23 24      22 23 24 25 26 27 28      20 21 22 23 24 25 26\n",
      "25 26 27 28 29 30 31      29 30                     27 28 29 30 31\n",
      "\n"
     ]
    }
   ],
   "source": [
    "#         Write a Python program to display calendar?\n",
    "import calendar\n",
    "\n",
    "#initializing the year for which the calendar is needed\n",
    "\n",
    "year=2021\n",
    "print(\"The Calendar for this year\",year,\" is:\",calendar.calendar(year))"
   ]
  },
  {
   "cell_type": "code",
   "execution_count": 1,
   "id": "1e9b48cc",
   "metadata": {},
   "outputs": [
    {
     "name": "stdout",
     "output_type": "stream",
     "text": [
      "Enter coefficient value for a other than 0:4\n",
      "Enter coefficient value for b other than 0:-2\n",
      "Enter coefficient value for c other than 0:1\n",
      "The solutions for the given equation 4x**2 +-2x+c=0 are:\n",
      "Type of Roots: Two complex roots\n",
      "The solutions are (0.25+0.4330127018922193j) and (0.25-0.4330127018922193j)\n"
     ]
    }
   ],
   "source": [
    "#     Write a Python program to solve quadratic equation?\n",
    "\n",
    "##Quadratic equations are defined as ax**2 + bx + c = 0 where a, b, c are Real Numbers(or Complex Numbers) and x is a variable\n",
    "import cmath\n",
    "a=int(input(\"Enter coefficient value for a other than 0:\"))\n",
    "b=int(input(\"Enter coefficient value for b other than 0:\"))\n",
    "c=int(input(\"Enter coefficient value for c other than 0:\"))\n",
    "# find the descerminent d= b**2 - 4*a*c\n",
    "d=b**2-4*a*c\n",
    "\n",
    "#Solutions using the formulas -b+-squareroot of b**2-4a*c / (2*a)  \n",
    "\n",
    "s1=(-b+cmath.sqrt(d))/(2*a)\n",
    "s2=(-b-cmath.sqrt(d))/(2*a)\n",
    "\n",
    "print(f\"The solutions for the given equation {a}x**2 +{b}x+c=0 are:\")\n",
    "if (d>0):\n",
    "    print(\"Type of Roots: Two distinct real roots\")\n",
    "elif (d==0):\n",
    "    print(\"Type of Roots: Two equal real roots\")\n",
    "else:\n",
    "    print(\"Type of Roots: Two complex roots\")\n",
    "    \n",
    "print(f\"The solutions are {s1} and {s2}\")\n"
   ]
  },
  {
   "cell_type": "code",
   "execution_count": 3,
   "id": "059637fc",
   "metadata": {},
   "outputs": [
    {
     "name": "stdout",
     "output_type": "stream",
     "text": [
      "This program is to swap two variables like a and b\n",
      "The value of a is  10 and value of b is  20\n",
      "Using XOR : The value of a is  20 and value of b is  10\n"
     ]
    }
   ],
   "source": [
    "#    Write a Python program to swap two variables without temp variable?\n",
    "\n",
    "print(\"This program is to swap two variables like a and b\")\n",
    "a=10\n",
    "b=20\n",
    "print(\"The value of a is \",a,\"and value of b is \",b)\n",
    "#without using Temporary variable by using XOR Operator\n",
    "a=a^b\n",
    "b=b^a\n",
    "a=a^b\n",
    "print(\"Using XOR : The value of a is \",a,\"and value of b is \",b)"
   ]
  },
  {
   "cell_type": "code",
   "execution_count": null,
   "id": "cf383a46",
   "metadata": {},
   "outputs": [],
   "source": []
  }
 ],
 "metadata": {
  "kernelspec": {
   "display_name": "Python 3 (ipykernel)",
   "language": "python",
   "name": "python3"
  },
  "language_info": {
   "codemirror_mode": {
    "name": "ipython",
    "version": 3
   },
   "file_extension": ".py",
   "mimetype": "text/x-python",
   "name": "python",
   "nbconvert_exporter": "python",
   "pygments_lexer": "ipython3",
   "version": "3.9.7"
  }
 },
 "nbformat": 4,
 "nbformat_minor": 5
}
