{
 "cells": [
  {
   "cell_type": "markdown",
   "id": "3e5ab0a4",
   "metadata": {},
   "source": [
    "#        iNeuron Assignments- Programming Assignment -5\n",
    "Write a Python Program to Find LCM?\n",
    "Write a Python Program to Find HCF?\n",
    "Write a Python Program to Convert Decimal to Binary, Octal and Hexadecimal?\n",
    "Write a Python Program To Find ASCII value of a character?\n",
    "Write a Python Program to Make a Simple Calculator with 4 basic mathematical operations?\n",
    "\n"
   ]
  },
  {
   "cell_type": "code",
   "execution_count": 9,
   "id": "daf5c3e5",
   "metadata": {},
   "outputs": [
    {
     "name": "stdout",
     "output_type": "stream",
     "text": [
      "Enter the number1 to find the L.C.M:35\n",
      "Enter the number2 to find the L.C.M:50\n",
      "The L.C.M. of 35.0 and 50.0is 350.0\n"
     ]
    }
   ],
   "source": [
    "#         Write a Python Program to Find LCM?\n",
    "\n",
    "# Defining function to find L.C.M\n",
    "def lcm(lst):\n",
    "\n",
    "   x=lst[0]\n",
    "   y=lst[1]\n",
    "   if x > y:\n",
    "       max_num = x\n",
    "   else:\n",
    "       max_num = y\n",
    "\n",
    "   while(True):\n",
    "       if((max_num % x == 0) and (max_num % y == 0)):\n",
    "           lcm_num = max_num\n",
    "           break\n",
    "       max_num += 1\n",
    "\n",
    "   return lcm_num\n",
    "\n",
    "# Main Program starting here\n",
    "\n",
    "num=[]\n",
    "counter=1\n",
    "while (counter<=2):\n",
    "    num1 = float(input(f\"Enter the number{counter} to find the L.C.M:\"))\n",
    "    if num1!=0:\n",
    "        num.append(num1)\n",
    "        counter=counter+1\n",
    "    else: \n",
    "        print(f\"Please enter a valid number for number{counter}\")\n",
    "        \n",
    "print(f\"The L.C.M. of {num[0]} and {num[1]} is\", lcm(num))"
   ]
  },
  {
   "cell_type": "code",
   "execution_count": 13,
   "id": "0fc1b079",
   "metadata": {},
   "outputs": [
    {
     "name": "stdout",
     "output_type": "stream",
     "text": [
      "Enter the number1 to find the H.C.F:0\n",
      "Please enter a valid number for number1\n",
      "Enter the number1 to find the H.C.F:35\n",
      "Enter the number2 to find the H.C.F:47\n",
      "The L.C.M. of 35 and 47 is 1\n"
     ]
    }
   ],
   "source": [
    "#         Write a Python Program to Find HCF?\n",
    "\n",
    "# Defining fuction for finding HCF\n",
    "def hcf(lst):\n",
    "\n",
    "   x=lst[0]\n",
    "   y=lst[1]\n",
    "   if x > y:\n",
    "       min_num = y\n",
    "   else:\n",
    "       min_num = x\n",
    "\n",
    "   for i in range(1,min_num+1):\n",
    "       if((x%i == 0) and (y%i == 0)):\n",
    "           hcf_num = i\n",
    "   return hcf_num\n",
    "\n",
    "# Main Program starting here\n",
    "\n",
    "num=[]\n",
    "counter=1\n",
    "while (counter<=2):\n",
    "    num1 = int(input(f\"Enter the number{counter} to find the H.C.F:\"))\n",
    "    if num1!=0:\n",
    "        num.append(num1)\n",
    "        counter=counter+1\n",
    "    else: \n",
    "        print(f\"Please enter a valid number for number{counter}\")\n",
    "        \n",
    "print(f\"The L.C.M. of {num[0]} and {num[1]} is\", hcf(num))"
   ]
  },
  {
   "cell_type": "code",
   "execution_count": 16,
   "id": "005691e7",
   "metadata": {},
   "outputs": [
    {
     "name": "stdout",
     "output_type": "stream",
     "text": [
      "Please enter a Decimal number to see its Binary, Octal and Hexadecimal:100\n",
      "The Binary for the given number 100 is  0b1100100\n",
      "The Octal for the given number 100 is  0o144\n",
      "The Hexadecimal for the given number 100 is  0x64\n"
     ]
    }
   ],
   "source": [
    "#    Write a Python Program to Convert Decimal to Binary, Octal and Hexadecimal?\n",
    "\n",
    "# user input\n",
    "\n",
    "input_number=int(input(\"Please enter a Decimal number to see its Binary, Octal and Hexadecimal:\"))\n",
    "print(f\"The Binary for the given number {input_number} is \", bin(input_number))\n",
    "print(f\"The Octal for the given number {input_number} is \", oct(input_number))\n",
    "print(f\"The Hexadecimal for the given number {input_number} is \", hex(input_number))"
   ]
  },
  {
   "cell_type": "code",
   "execution_count": 18,
   "id": "bcabbaf4",
   "metadata": {},
   "outputs": [
    {
     "name": "stdout",
     "output_type": "stream",
     "text": [
      "Enter a charcter to find its ASCII Valueh\n",
      "The ASCII Value for a given character h is  104\n"
     ]
    }
   ],
   "source": [
    "#   Write a Python Program To Find ASCII value of a character?\n",
    "\n",
    "input_char=input(\"Enter a charcter to find its ASCII Value: \")\n",
    "print(f\"The ASCII Value for a given character {input_char} is \",ord(input_char))"
   ]
  },
  {
   "cell_type": "code",
   "execution_count": 19,
   "id": "514a06c2",
   "metadata": {},
   "outputs": [
    {
     "name": "stdout",
     "output_type": "stream",
     "text": [
      "Enter an option from the below for the specific operation.\n",
      "1.Add\n",
      "2.Subtract\n",
      "3.Multiply\n",
      "4.Divide\n",
      "Enter choice(1/2/3/4): 1\n",
      "Enter first number: 45\n",
      "Enter second number: 55\n",
      "45.0 + 55.0 = 100.0\n",
      "Let's do next calculation? (yes/no): yes\n",
      "Enter choice(1/2/3/4): 3\n",
      "Enter first number: 10\n",
      "Enter second number: 34.5\n",
      "10.0 * 34.5 = 345.0\n",
      "Let's do next calculation? (yes/no): no\n"
     ]
    }
   ],
   "source": [
    "#   Write a Python Program to Make a Simple Calculator with 4 basic mathematical operations?\n",
    "\n",
    "# This function adds two numbers\n",
    "def add(x, y):\n",
    "    return x + y\n",
    "\n",
    "# This function subtracts two numbers\n",
    "def subtract(x, y):\n",
    "    return x - y\n",
    "\n",
    "# This function multiplies two numbers\n",
    "def multiply(x, y):\n",
    "    return x * y\n",
    "\n",
    "# This function divides two numbers\n",
    "def divide(x, y):\n",
    "    return x / y\n",
    "\n",
    "\n",
    "print(\"Enter an option from the below for the specific operation.\")\n",
    "print(\"1.Add\")\n",
    "print(\"2.Subtract\")\n",
    "print(\"3.Multiply\")\n",
    "print(\"4.Divide\")\n",
    "\n",
    "while True:\n",
    "    # take input from the user\n",
    "    choice = input(\"Enter choice(1/2/3/4): \")\n",
    "\n",
    "    # check if choice is one of the four options\n",
    "    if choice in ('1', '2', '3', '4'):\n",
    "        num1 = float(input(\"Enter first number: \"))\n",
    "        num2 = float(input(\"Enter second number: \"))\n",
    "\n",
    "        if choice == '1':\n",
    "            print(num1, \"+\", num2, \"=\", add(num1, num2))\n",
    "\n",
    "        elif choice == '2':\n",
    "            print(num1, \"-\", num2, \"=\", subtract(num1, num2))\n",
    "\n",
    "        elif choice == '3':\n",
    "            print(num1, \"*\", num2, \"=\", multiply(num1, num2))\n",
    "\n",
    "        elif choice == '4':\n",
    "            print(num1, \"/\", num2, \"=\", divide(num1, num2))\n",
    "        \n",
    "        # check if user wants another calculation\n",
    "        # break the while loop if answer is no\n",
    "        next_calculation = input(\"Let's do next calculation? (yes/no): \")\n",
    "        if next_calculation.upper() == \"NO\":\n",
    "          break\n",
    "    \n",
    "    else:\n",
    "        print(\"Invalid Input\")"
   ]
  },
  {
   "cell_type": "code",
   "execution_count": null,
   "id": "b3eab606",
   "metadata": {},
   "outputs": [],
   "source": []
  }
 ],
 "metadata": {
  "kernelspec": {
   "display_name": "Python 3 (ipykernel)",
   "language": "python",
   "name": "python3"
  },
  "language_info": {
   "codemirror_mode": {
    "name": "ipython",
    "version": 3
   },
   "file_extension": ".py",
   "mimetype": "text/x-python",
   "name": "python",
   "nbconvert_exporter": "python",
   "pygments_lexer": "ipython3",
   "version": "3.9.7"
  }
 },
 "nbformat": 4,
 "nbformat_minor": 5
}
