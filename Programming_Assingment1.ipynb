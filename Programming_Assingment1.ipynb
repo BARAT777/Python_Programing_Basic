{
 "cells": [
  {
   "cell_type": "markdown",
   "id": "60da8a11",
   "metadata": {},
   "source": [
    "    iNeuron Assignments- Programming Assignment -1"
   ]
  },
  {
   "cell_type": "markdown",
   "id": "8dd1622b",
   "metadata": {},
   "source": [
    "Write a Python program to print \"Hello Python\"?\n",
    "Write a Python program to do arithmetical operations addition and division.?\n",
    "Write a Python program to find the area of a triangle?\n",
    "Write a Python program to swap two variables?\n",
    "Write a Python program to generate a random number?\n"
   ]
  },
  {
   "cell_type": "code",
   "execution_count": 2,
   "id": "130d3dd7",
   "metadata": {},
   "outputs": [
    {
     "name": "stdout",
     "output_type": "stream",
     "text": [
      "Hello Python\n"
     ]
    }
   ],
   "source": [
    "#Write a Python program to print \"Hello Python\"?\n",
    "print(\"Hello Python\")"
   ]
  },
  {
   "cell_type": "code",
   "execution_count": 3,
   "id": "db5aa530",
   "metadata": {},
   "outputs": [
    {
     "name": "stdout",
     "output_type": "stream",
     "text": [
      "After Addition of a and b is  30\n",
      "After Divison of b by a is  2.0\n"
     ]
    }
   ],
   "source": [
    "#Write a Python program to do arithmetical operations addition and division.?\n",
    "a=10\n",
    "b=20\n",
    "#Addition Opertation\n",
    "print(\"After Addition of a and b is \",a+b)\n",
    "#Addition Opertation\n",
    "print(\"After Divison of b by a is \",b/a)\n"
   ]
  },
  {
   "cell_type": "code",
   "execution_count": 5,
   "id": "843baee4",
   "metadata": {},
   "outputs": [
    {
     "name": "stdout",
     "output_type": "stream",
     "text": [
      "This is the program to find the area of a triagle using breadth and height\n",
      "Enter the value for b - breadth:5\n",
      "Enter the value for h - height:10\n",
      "Area of the tiagle for the given breadth and height is: 25.0\n"
     ]
    }
   ],
   "source": [
    "#Write a Python program to find the area of a triangle?\n",
    "#Area of a triagle formula is - A = 1/2 × b × h\n",
    "print(\"This is the program to find the area of a triagle using breadth and height\")\n",
    "b=int(input(\"Enter the value for b - breadth:\"))\n",
    "h=int(input(\"Enter the value for h - height:\"))\n",
    "A=1/2*(b*h)\n",
    "print(\"Area of the tiagle for the given breadth and height is:\",A)"
   ]
  },
  {
   "cell_type": "code",
   "execution_count": 8,
   "id": "565c1208",
   "metadata": {},
   "outputs": [
    {
     "name": "stdout",
     "output_type": "stream",
     "text": [
      "This program is to swap two variables like a and b\n",
      "The value of a is  10 and value of b is  20\n",
      "The value of a is  20 and value of b is  10\n",
      "Using XOR : The value of a is  20 and value of b is  10\n"
     ]
    }
   ],
   "source": [
    "#Write a Python program to swap two variables?\n",
    "print(\"This program is to swap two variables like a and b\")\n",
    "a=10\n",
    "b=20\n",
    "print(\"The value of a is \",a,\"and value of b is \",b)\n",
    "#Option 1 using temproary variable\n",
    "c=a\n",
    "a=b\n",
    "b=c\n",
    "print(\"The value of a is \",a,\"and value of b is \",b)\n",
    "#Option 2 using XOR Operator\n",
    "a=10\n",
    "b=20\n",
    "a=a^b\n",
    "b=b^a\n",
    "a=a^b\n",
    "print(\"Using XOR : The value of a is \",a,\"and value of b is \",b)\n"
   ]
  },
  {
   "cell_type": "code",
   "execution_count": 11,
   "id": "94a0155a",
   "metadata": {},
   "outputs": [
    {
     "name": "stdout",
     "output_type": "stream",
     "text": [
      "Random numbers 7\n"
     ]
    }
   ],
   "source": [
    "#Write a Python program to generate a random number?\n",
    "import random\n",
    "print(\"Random numbers\",random.randrange(0,15))\n"
   ]
  },
  {
   "cell_type": "code",
   "execution_count": null,
   "id": "5dca4dd3",
   "metadata": {},
   "outputs": [],
   "source": []
  }
 ],
 "metadata": {
  "kernelspec": {
   "display_name": "Python 3 (ipykernel)",
   "language": "python",
   "name": "python3"
  },
  "language_info": {
   "codemirror_mode": {
    "name": "ipython",
    "version": 3
   },
   "file_extension": ".py",
   "mimetype": "text/x-python",
   "name": "python",
   "nbconvert_exporter": "python",
   "pygments_lexer": "ipython3",
   "version": "3.9.7"
  }
 },
 "nbformat": 4,
 "nbformat_minor": 5
}
