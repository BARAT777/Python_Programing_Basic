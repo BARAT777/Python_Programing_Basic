{
 "cells": [
  {
   "cell_type": "markdown",
   "id": "6eb9be0d",
   "metadata": {},
   "source": [
    "#        iNeuron Assignments- Programming Assignment -4\n",
    "\n",
    "\n",
    "1. Write a Python Program to Find the Factorial of a Number?\n",
    "2. Write a Python Program to Display the multiplication Table?\n",
    "3. Write a Python Program to Print the Fibonacci sequence?\n",
    "4. Write a Python Program to Check Armstrong Number?\n",
    "5. Write a Python Program to Find Armstrong Number in an Interval?\n",
    "6. Write a Python Program to Find the Sum of Natural Numbers?\n"
   ]
  },
  {
   "cell_type": "code",
   "execution_count": 6,
   "id": "f8e26419",
   "metadata": {},
   "outputs": [
    {
     "name": "stdout",
     "output_type": "stream",
     "text": [
      "Please enter a number to find the factorial:4\n",
      "The factorial of the given number is 24\n"
     ]
    }
   ],
   "source": [
    "#      Write a Python Program to Find the Factorial of a Number?\n",
    "\n",
    "\"\"\"   Factorial of a whole number 'n' is defined as the product of that number with every whole number till 1. \n",
    "       For example, the factorial of 4 is 4×3×2×1, which is equal to 24. \"\"\"\n",
    "\n",
    "n=int(input(\"Please enter a number to find the factorial:\"))\n",
    "fact=1\n",
    "while (n!=1) :\n",
    "    fact=fact*n\n",
    "    n=n-1\n",
    "print(f\"The factorial of the given number is {fact}\")"
   ]
  },
  {
   "cell_type": "code",
   "execution_count": 11,
   "id": "17cff033",
   "metadata": {},
   "outputs": [
    {
     "name": "stdout",
     "output_type": "stream",
     "text": [
      "Please enter a number for which you need multiplication table:11\n",
      "Please enter a maximum number upto which you need this multiplication table:22\n",
      "1 * 11 = 11\n",
      "2 * 11 = 22\n",
      "3 * 11 = 33\n",
      "4 * 11 = 44\n",
      "5 * 11 = 55\n",
      "6 * 11 = 66\n",
      "7 * 11 = 77\n",
      "8 * 11 = 88\n",
      "9 * 11 = 99\n",
      "10 * 11 = 110\n",
      "11 * 11 = 121\n",
      "12 * 11 = 132\n",
      "13 * 11 = 143\n",
      "14 * 11 = 154\n",
      "15 * 11 = 165\n",
      "16 * 11 = 176\n",
      "17 * 11 = 187\n",
      "18 * 11 = 198\n",
      "19 * 11 = 209\n",
      "20 * 11 = 220\n",
      "21 * 11 = 231\n",
      "22 * 11 = 242\n"
     ]
    }
   ],
   "source": [
    "#     2. Write a Python Program to Display the multiplication Table?\n",
    "\n",
    "\"\"\" This program is to display the multiplication table for the given range \n",
    "    by getting two inputs from user \"\"\"\n",
    "\n",
    "n=int(input(\"Please enter a number for which you need multiplication table:\"))\n",
    "r=int(input(\"Please enter a maximum number upto which you need this multiplication table:\"))\n",
    "\n",
    "for i in range(1,r+1):\n",
    "    print(f\"{i} * {n} = {(i*n)}\")\n",
    "    "
   ]
  },
  {
   "cell_type": "code",
   "execution_count": 18,
   "id": "3a269ad1",
   "metadata": {},
   "outputs": [
    {
     "name": "stdout",
     "output_type": "stream",
     "text": [
      "Please enter a total number upto which the fibonacci sequence is needed:-5\n",
      "Please enter a valid number for fibonacci sequence\n"
     ]
    }
   ],
   "source": [
    "#        3. Write a Python Program to Print the Fibonacci sequence?\n",
    "\n",
    "f=int(input(\"Please enter a total number upto which the fibonacci sequence is needed:\"))\n",
    "a=0\n",
    "b=1\n",
    "if f==1 and f!=0:\n",
    "    print(a)\n",
    "elif f<=0:\n",
    "    print(\"Please enter a valid number for fibonacci sequence\")\n",
    "else: \n",
    "    print(a)\n",
    "    print(b)\n",
    "    for i in range(2,f):\n",
    "        c=a+b\n",
    "        a=b\n",
    "        b=c\n",
    "        print(c)\n",
    "    "
   ]
  },
  {
   "cell_type": "code",
   "execution_count": 7,
   "id": "06ccc363",
   "metadata": {},
   "outputs": [
    {
     "name": "stdout",
     "output_type": "stream",
     "text": [
      "Please enter a number to check if it is an Armstrong Number:153\n",
      "Total number of digits in the given number 153 is 3\n",
      "Total sum of the give number's 153 individual digits is 153\n",
      "This number 153 is Armstrong number\n"
     ]
    }
   ],
   "source": [
    "#       4. Write a Python Program to Check Armstrong Number?\n",
    "\n",
    "\"\"\"The user has to enter any number.\n",
    "Count the Number of individual digits (For Example, 370 means 3).\n",
    "Divide the given number into individual digits (For Example, Divide 370 into 3, 7, and 0).\n",
    "Calculate the power of n for each individual and add those numbers.\n",
    "Compare the original value with Sum value.\n",
    "If they exactly matched, then it is an Armstrong number else it is not Armstrong.\"\"\"\n",
    "\n",
    "\n",
    "def armstrong_num_verify(a):\n",
    "    #Step 1: count the number of individual digits\n",
    "    digit_count=0\n",
    "    Reminder=a\n",
    "    while (Reminder>0):\n",
    "        Reminder=Reminder//10\n",
    "        digit_count=digit_count+1\n",
    "    print(f\"Total number of digits in the given number {a} is {digit_count}\") \n",
    "\n",
    "    #Step 2: Divide the given number into individual digits\n",
    "    Reminder=a\n",
    "    sumx=0\n",
    "    while (Reminder>0):\n",
    "        q=Reminder%10\n",
    "        sumx=sumx+(q**digit_count)\n",
    "        Reminder=Reminder//10\n",
    "    print(f\"Total sum of the give number's {a} individual digits is {sumx}\")\n",
    "    if(a==sumx):\n",
    "        print(f\"This number {a} is Armstrong number\")\n",
    "    else:\n",
    "        print(f\"This number {a} is not a Armstrong number\")\n",
    "\n",
    "f=int(input(\"Please enter a number to check if it is an Armstrong Number:\"))\n",
    "armstrong_num_verify(f)\n"
   ]
  },
  {
   "cell_type": "code",
   "execution_count": 10,
   "id": "2fc13de0",
   "metadata": {},
   "outputs": [
    {
     "name": "stdout",
     "output_type": "stream",
     "text": [
      "Please enter starting number to check the Armstrong Number in the interval:200\n",
      "Please enter ending number to check the Armstrong Number in the interval:500\n",
      "This number 370 is Armstrong number\n",
      "This number 371 is Armstrong number\n",
      "This number 407 is Armstrong number\n"
     ]
    }
   ],
   "source": [
    "#     5. Write a Python Program to Find Armstrong Number in an Interval?\n",
    "\n",
    "\"\"\"The user has to enter any number.\n",
    "Count the Number of individual digits (For Example, 370 means 3).\n",
    "Divide the given number into individual digits (For Example, Divide 370 into 3, 7, and 0).\n",
    "Calculate the power of n for each individual and add those numbers.\n",
    "Compare the original value with Sum value.\n",
    "If they exactly matched, then it is an Armstrong number else it is not Armstrong.\"\"\"\n",
    "\n",
    "\n",
    "def armstrong_num_verify(a):\n",
    "    #Step 1: count the number of individual digits\n",
    "    digit_count=0\n",
    "    Reminder=a\n",
    "    while (Reminder>0):\n",
    "        Reminder=Reminder//10\n",
    "        digit_count=digit_count+1\n",
    "    #print(f\"Total number of digits in the given number {a} is {digit_count}\") \n",
    "\n",
    "    #Step 2: Divide the given number into individual digits\n",
    "    Reminder=a\n",
    "    sumx=0\n",
    "    while (Reminder>0):\n",
    "        q=Reminder%10\n",
    "        sumx=sumx+(q**digit_count)\n",
    "        Reminder=Reminder//10\n",
    "    #print(f\"Total sum of the give number's {a} individual digits is {sumx}\")\n",
    "    if(a==sumx):\n",
    "        print(f\"This number {a} is Armstrong number\")\n",
    "    else:\n",
    "        pass\n",
    "    #    print(f\"This number {a} is not a Armstrong number\")\n",
    "\n",
    "Start_Range=int(input(\"Please enter starting number to check the Armstrong Number in the interval:\"))\n",
    "End_Range=int(input(\"Please enter ending number to check the Armstrong Number in the interval:\"))\n",
    "\n",
    "for f in range(Start_Range,End_Range+1):\n",
    "    armstrong_num_verify(f)\n"
   ]
  },
  {
   "cell_type": "code",
   "execution_count": 12,
   "id": "1a1db3cd",
   "metadata": {},
   "outputs": [
    {
     "name": "stdout",
     "output_type": "stream",
     "text": [
      "Please enter a natural number to find its sum:500\n",
      "The sum of given natural number 500 is 125250\n"
     ]
    }
   ],
   "source": [
    "#         6. Write a Python Program to Find the Sum of Natural Numbers?\n",
    "\n",
    "\n",
    "Natural_num=int(input(\"Please enter a natural number to find its sum:\"))\n",
    "Sum_num=sum(range(Natural_num+1))\n",
    "print(f\"The sum of given natural number {Natural_num} is {Sum_num}\")\n"
   ]
  },
  {
   "cell_type": "code",
   "execution_count": null,
   "id": "e79c9505",
   "metadata": {},
   "outputs": [],
   "source": []
  }
 ],
 "metadata": {
  "kernelspec": {
   "display_name": "Python 3 (ipykernel)",
   "language": "python",
   "name": "python3"
  },
  "language_info": {
   "codemirror_mode": {
    "name": "ipython",
    "version": 3
   },
   "file_extension": ".py",
   "mimetype": "text/x-python",
   "name": "python",
   "nbconvert_exporter": "python",
   "pygments_lexer": "ipython3",
   "version": "3.9.7"
  }
 },
 "nbformat": 4,
 "nbformat_minor": 5
}
